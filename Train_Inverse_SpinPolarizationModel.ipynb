{
 "cells": [
  {
   "cell_type": "code",
   "execution_count": 1,
   "id": "0b420ce5",
   "metadata": {},
   "outputs": [
    {
     "name": "stderr",
     "output_type": "stream",
     "text": [
      "Using backend: pytorch\n",
      "\n"
     ]
    }
   ],
   "source": [
    "# -*- coding: utf-8 -*-\n",
    "\"\"\"\n",
    "Created on Mon Mar 21 20:38:19 2022\n",
    "\n",
    "本文件仿真有泵浦光补偿的情况，假设有未知参数，进行逆向研究\n",
    "\n",
    "@author: Administrator\n",
    "\"\"\"\n",
    "\n",
    "\"\"\"Backend supported: tensorflow.compat.v1, torch\"\"\"\n",
    "import deepxde as dde\n",
    "import numpy as np\n",
    "import pandas as pd\n",
    "#from deepxde.backend import tf\n",
    "#from deepxde.backend import torch\n",
    "import torch\n",
    "from scipy.special import gamma\n",
    "from scipy.special import lambertw\n",
    "\n",
    "#import mayavi.mlab as mlab\n",
    "import matplotlib.pyplot as plt\n",
    "\n",
    "from draw_counter import random_sphere_points, uniform_sample_points\n",
    "from PIL import Image\n",
    "\n",
    "torch.set_default_tensor_type(torch.cuda.FloatTensor)\n",
    "\n",
    "## 定义模型变量\n",
    "q_lambda = dde.Variable(0.1)\n",
    "\n",
    "## 单位统一至cm，定义各个参数\n",
    "D = 0.585\n",
    "Rsd = 17.5573\n",
    "#Rwall = 2.654 # 泡壁碰撞的参数是不是错啦\n",
    "Rwall = 2.56401\n",
    "rpump = 0.75\n",
    "q = 5\n",
    "#qlambda_real = 0.5\n",
    "rcell = 1.5\n",
    "\n",
    "#Rrel = Rsd + (q+q_lambda)*Rwall\n",
    "I = 25*1e-3*1e4 # kg*(cm)^2/s^3\n",
    "T = 170\n",
    "k1 = 10**(-20)*10**8 # kg*cm^4/s^2\n",
    "k2 = 10**(-17)*10**4 # cm^2\n",
    "k3 = 1 # cm^-3\n",
    "sigm = 2.34601*10**(-13) # cm^2\n",
    "\n",
    "n = k3*(1/(T+273.15))*10**(21.866+4.402-4453/(T+273.15))\n",
    "\n",
    "\n"
   ]
  },
  {
   "cell_type": "code",
   "execution_count": null,
   "id": "24467714",
   "metadata": {},
   "outputs": [],
   "source": []
  },
  {
   "cell_type": "code",
   "execution_count": 2,
   "id": "e2c659af",
   "metadata": {},
   "outputs": [],
   "source": [
    "def gen_traindata():\n",
    "    #data = np.load(\"../dataset/Lorenz.npz\")\n",
    "    filename_3D = './COMSOL_data/Q_unknown.csv'\n",
    "    #df = pd.read_csv(filename, header=9, names=['x', 'y', 'z', 'Pz'])\n",
    "    df_3D = pd.read_csv(filename_3D, header=9, names=['x', 'y', 'z', 'Pz'])\n",
    "    point_num = 5000\n",
    "    axis_3D_x = np.asarray(df_3D['x'])[:point_num]\n",
    "    axis_3D_y = np.asarray(df_3D['y'])[:point_num]\n",
    "    axis_3D_z = np.asarray(df_3D['z'])[:point_num]\n",
    "    axis_3D_Pz = np.asarray(df_3D['Pz'])[:point_num]\n",
    "    axis_3D_axis = np.stack((axis_3D_x, axis_3D_y, axis_3D_z), axis=1)\n",
    "    \n",
    "    return axis_3D_axis, axis_3D_Pz.reshape(-1, 1)\n",
    "\n"
   ]
  },
  {
   "cell_type": "code",
   "execution_count": 3,
   "id": "2edc96e7",
   "metadata": {},
   "outputs": [
    {
     "name": "stdout",
     "output_type": "stream",
     "text": [
      "300\n",
      "176.27631760593877\n"
     ]
    },
    {
     "data": {
      "image/png": "[encoded data removed]",
      "text/plain": [
       "<Figure size 432x288 with 1 Axes>"
      ]
     },
     "metadata": {
      "needs_background": "light"
     },
     "output_type": "display_data"
    }
   ],
   "source": [
    "## 读取COMSOL生成数据\n",
    "filename_Rop = './COMSOL_data/inverse_Rop0.csv'\n",
    "#df = pd.read_csv(filename, header=9, names=['x', 'y', 'z', 'Pz'])\n",
    "df_Rop = pd.read_csv(filename_Rop, header=14, names=['Rop'])\n",
    "Rop_raw = df_Rop['Rop']\n",
    "\n",
    "plt.plot(Rop_raw)\n",
    "print(len(Rop_raw))\n",
    "from scipy.interpolate import interp1d\n",
    "z_axis = np.linspace(-1.5, 1.5, 300)\n",
    "Func_Rop = interp1d(z_axis, Rop_raw)\n",
    "print(Func_Rop(1.5))"
   ]
  },
  {
   "cell_type": "code",
   "execution_count": null,
   "id": "81f9b85f",
   "metadata": {},
   "outputs": [],
   "source": []
  },
  {
   "cell_type": "code",
   "execution_count": 4,
   "id": "8e3ff7c4",
   "metadata": {},
   "outputs": [],
   "source": [
    "def bloch_pde(x_in, y_in):\n",
    "    ''' x_in: (x,y,z) axis\n",
    "        y_in: Pz polarization\n",
    "    '''\n",
    "    x_in_copy = x_in.detach().cpu().numpy()\n",
    "    x = x_in_copy[:, 0:1]\n",
    "    y = x_in_copy[:, 1:2]\n",
    "    z = x_in_copy[:, 2:3]\n",
    "    \n",
    "#     sess = tf.compat.v1.Session(graph=tf.compat.v1.get_default_graph())\n",
    "#     x_arr = x.eval(session=sess)\n",
    "    dy_xx = dde.grad.hessian(y_in, x_in, i=0, j=0)\n",
    "    dy_yy = dde.grad.hessian(y_in, x_in, i=1, j=1)\n",
    "    dy_zz = dde.grad.hessian(y_in, x_in, i=2, j=2) # dy/dxidxj\n",
    "    \n",
    "    Rop_z = Func_Rop(z)    \n",
    "    Rop = Rop_z * np.exp(-2*(x**2+y**2)/rpump**2)\n",
    "    Rop = torch.from_numpy(Rop).cuda()\n",
    "    #Rop = Rop0\n",
    "    \n",
    "    return -D*(dy_xx+dy_yy+dy_zz) + ((Rop+Rsd)/(q+q_lambda)+Rwall)*y_in - Rop/(q+q_lambda)\n",
    "\n",
    "# def func(x):\n",
    "#     return (np.abs(1 - np.linalg.norm(x, axis=1, keepdims=True) ** 2)) ** (\n",
    "#         1 + alpha / 2\n",
    "#     )\n",
    "\n",
    "def func_boundary(x_in, Pz, numpy_X):\n",
    "    x_in_copy = x_in.detach().cpu().numpy()\n",
    "    x = x_in_copy[:, 0:1]\n",
    "    y = x_in_copy[:, 1:2]\n",
    "    z = x_in_copy[:, 2:3]\n",
    "    \n",
    "    dPz_x = dde.grad.jacobian(Pz, x_in, i=0, j=0) # This is right\n",
    "    dPz_y = dde.grad.jacobian(Pz, x_in, i=0, j=1)\n",
    "    dPz_z = dde.grad.jacobian(Pz, x_in, i=0, j=2)\n",
    "    \n",
    "    #Rop = Rop0 * np.exp(-2*(x**2+y**2)/rpump**2)\n",
    "\n",
    "    Rop_z = Func_Rop(z)    \n",
    "    Rop = Rop_z * np.exp(-2*(x**2+y**2)/rpump**2)\n",
    "    \n",
    "    \n",
    "    second_term = np.sqrt(1/2*np.abs(Rop*D))\n",
    "    second_term = torch.from_numpy(second_term).cuda()\n",
    "    Rop = torch.from_numpy(Rop).cuda()\n",
    "    # tranfer back to torch.tensor\n",
    "    #Rop = torch.from_numpy(Rop).cuda()\n",
    "#     x = torch.from_numpy(x).cuda()\n",
    "#     y = torch.from_numpy(y).cuda()\n",
    "#     z = torch.from_numpy(z).cuda()\n",
    "    x = x_in[:, 0:1]\n",
    "    y = x_in[:, 1:2]\n",
    "    z = x_in[:, 2:3]\n",
    "    \n",
    "    return (D/rcell*(x*dPz_x + y*dPz_y + z*dPz_z) + Pz*second_term)\n"
   ]
  },
  {
   "cell_type": "code",
   "execution_count": null,
   "id": "c248ee83",
   "metadata": {
    "scrolled": true
   },
   "outputs": [
    {
     "name": "stdout",
     "output_type": "stream",
     "text": [
      "Pz shape  (5000, 1)\n"
     ]
    },
    {
     "name": "stderr",
     "output_type": "stream",
     "text": [
      "C:\\Users\\Administrator\\anaconda3\\envs\\tf2\\lib\\site-packages\\skopt\\sampler\\sobol.py:250: UserWarning: The balance properties of Sobol' points require n to be a power of 2. 0 points have been previously generated, then: n=0+25002=25002. \n",
      "  total_n_samples))\n",
      "C:\\Users\\Administrator\\anaconda3\\envs\\tf2\\lib\\site-packages\\skopt\\sampler\\sobol.py:250: UserWarning: The balance properties of Sobol' points require n to be a power of 2. 0 points have been previously generated, then: n=0+3002=3002. \n",
      "  total_n_samples))\n"
     ]
    },
    {
     "name": "stdout",
     "output_type": "stream",
     "text": [
      "Compiling model...\n",
      "'compile' took 0.000165 s\n",
      "\n",
      "Training model...\n",
      "\n",
      "Step      Train loss                        Test loss                         Test metric\n",
      "0         [4.02e+01, 8.84e-02, 5.21e-02]    [4.02e+01, 8.84e-02, 5.21e-02]    []  \n",
      "1000      [4.76e-01, 1.04e+00, 6.99e-03]    [4.76e-01, 1.04e+00, 6.99e-03]    []  \n",
      "2000      [1.55e-01, 1.11e+00, 8.21e-03]    [1.55e-01, 1.11e+00, 8.21e-03]    []  \n",
      "3000      [1.44e-01, 9.88e-01, 7.25e-03]    [1.44e-01, 9.88e-01, 7.25e-03]    []  \n",
      "4000      [1.65e-01, 7.94e-01, 5.59e-03]    [1.65e-01, 7.94e-01, 5.59e-03]    []  \n",
      "5000      [1.18e-01, 3.67e-01, 2.78e-03]    [1.18e-01, 3.67e-01, 2.78e-03]    []  \n",
      "6000      [8.51e-02, 1.27e-01, 1.27e-03]    [8.51e-02, 1.27e-01, 1.27e-03]    []  \n",
      "7000      [2.86e-02, 1.28e-02, 2.84e-04]    [2.86e-02, 1.28e-02, 2.84e-04]    []  \n",
      "8000      [1.28e-02, 3.36e-03, 9.70e-05]    [1.28e-02, 3.36e-03, 9.70e-05]    []  \n",
      "9000      [7.24e-03, 1.96e-03, 5.25e-05]    [7.24e-03, 1.96e-03, 5.25e-05]    []  \n",
      "10000     [4.80e-03, 1.45e-03, 3.56e-05]    [4.80e-03, 1.45e-03, 3.56e-05]    []  \n",
      "11000     [3.60e-03, 1.13e-03, 2.78e-05]    [3.60e-03, 1.13e-03, 2.78e-05]    []  \n",
      "12000     [2.97e-03, 8.85e-04, 2.28e-05]    [2.97e-03, 8.85e-04, 2.28e-05]    []  \n",
      "13000     [2.28e-03, 7.09e-04, 1.83e-05]    [2.28e-03, 7.09e-04, 1.83e-05]    []  \n",
      "14000     [2.08e-03, 5.87e-04, 1.51e-05]    [2.08e-03, 5.87e-04, 1.51e-05]    []  \n"
     ]
    }
   ],
   "source": [
    "geom = dde.geometry.Sphere([0, 0, 0], rcell)\n",
    "#bc = dde.icbc.DirichletBC(geom, func_boundary, lambda _, on_boundary: on_boundary)\n",
    "\n",
    "#bc = dde.icbc.RobinBC(geom, func_boundary, lambda _, on_boundary: on_boundary)\n",
    "bc = dde.icbc.OperatorBC(geom, func_boundary, lambda _, on_boundary: on_boundary) # 函数调研下，operatorBC\n",
    "\n",
    "\n",
    "## 添加变量参数约束\n",
    "\n",
    "# Get the train data\n",
    "observe_axis, ob_pz = gen_traindata()\n",
    "print('Pz shape ', ob_pz.shape)\n",
    "observe_points = dde.icbc.PointSetBC(observe_axis, ob_pz, component=0)\n",
    "\n",
    "\n",
    "data = dde.data.PDE(geom, bloch_pde,\\\n",
    "                    [bc, observe_points],\\\n",
    "                    num_domain=25000, num_boundary=3000,\\\n",
    "                   anchors=observe_axis)\n",
    "\n",
    "net = dde.nn.FNN([3] + [60] * 4 + [1], \"tanh\", \"Glorot normal\")\n",
    "# net.apply_output_transform(\n",
    "#     lambda x, y: (1 - tf.reduce_sum(x ** 2, axis=1, keepdims=True)) * y\n",
    "# )\n",
    "\n",
    "model = dde.Model(data, net)\n",
    "model.compile(\"adam\", lr=1e-4, external_trainable_variables=[q_lambda])\n",
    "#losshistory, train_state = model.train(epochs=8000, model_save_path='Bloch_Rop_v1')\n",
    "variable = dde.callbacks.VariableValue(\n",
    "    [q_lambda], period=500, filename=\"variables.dat\"\n",
    ")\n",
    "# losshistory, train_state = model.train(iterations=60000, callbacks=[variable])\n",
    "# dde.saveplot(losshistory, train_state, issave=True, isplot=True)\n",
    "losshistory, train_state = model.train(epochs=30000, callbacks=[variable])\n",
    "dde.saveplot(losshistory, train_state, issave=True, isplot=True)"
   ]
  },
  {
   "cell_type": "code",
   "execution_count": null,
   "id": "5f179520",
   "metadata": {},
   "outputs": [],
   "source": [
    "## 读取dat文件，并绘图\n",
    "\n",
    "q_datFile = pd.read_csv(\"variables.dat\", header=None, usecols=[0])\n",
    "\n",
    "#q_data = np.asarray(q_datFile)\n",
    "#plt.plot(q_data)\n",
    "q_data = []\n",
    "for i in q_datFile[0]:\n",
    "    q_data.append(float(i.split('[')[1].split(']')[0]))\n",
    "    \n",
    "    \n",
    "plt.plot(q_data)    "
   ]
  },
  {
   "cell_type": "code",
   "execution_count": null,
   "id": "54d57ea3",
   "metadata": {},
   "outputs": [],
   "source": []
  },
  {
   "cell_type": "code",
   "execution_count": null,
   "id": "7a3ff7d4",
   "metadata": {},
   "outputs": [],
   "source": [
    "'''\n",
    "读取Ref文件，COMSOL仿真结果\n",
    "'''\n",
    "\n",
    "# 读取z-axis实验结果\n",
    "filename = './COMSOL_data/dual_light_zaxis.csv'\n",
    "#df = pd.read_csv(filename, header=9, names=['x', 'y', 'z', 'Pz'])\n",
    "df = pd.read_csv(filename, header=9, names=['Pz'])\n",
    "## (x, y, z) u1, 20796*4\n",
    "\n",
    "# x = np.asarray(df['x'])\n",
    "# y = np.asarray(df['y'])\n",
    "# z = np.asarray(df['z'])\n",
    "ZAxis_COMSOL = np.asarray(df['Pz'])\n",
    "#Pz\n",
    "#len(Pz) cm, 注意单位换算，统一m\n",
    "z_sequence = np.linspace(-1.5, 1.5, 300)\n",
    "\n",
    "plt.plot(z_sequence, ZAxis_COMSOL)\n",
    "\n",
    "# 读取3D仿真结果文件\n",
    "filename_3D = './COMSOL_data/3D_dual_light.csv'\n",
    "#df = pd.read_csv(filename, header=9, names=['x', 'y', 'z', 'Pz'])\n",
    "df_3D = pd.read_csv(filename_3D, header=9, names=['x', 'y', 'z', 'Pz'])\n",
    "axis_3D_x = np.asarray(df_3D['x'])\n",
    "axis_3D_y = np.asarray(df_3D['y'])\n",
    "axis_3D_z = np.asarray(df_3D['z'])\n",
    "axis_3D_Pz = np.asarray(df_3D['Pz'])\n",
    "axis_3D_axis = np.stack((axis_3D_x, axis_3D_y, axis_3D_z), axis=1)\n",
    "axis_3D_axis.shape"
   ]
  }
 ],
 "metadata": {
  "kernelspec": {
   "display_name": "Python 3 (ipykernel)",
   "language": "python",
   "name": "python3"
  },
  "language_info": {
   "codemirror_mode": {
    "name": "ipython",
    "version": 3
   },
   "file_extension": ".py",
   "mimetype": "text/x-python",
   "name": "python",
   "nbconvert_exporter": "python",
   "pygments_lexer": "ipython3",
   "version": "3.7.12"
  }
 },
 "nbformat": 4,
 "nbformat_minor": 5
}
